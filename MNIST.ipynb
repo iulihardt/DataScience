{
  "nbformat": 4,
  "nbformat_minor": 0,
  "metadata": {
    "colab": {
      "name": "MNIST.ipynb",
      "provenance": [],
      "collapsed_sections": [],
      "include_colab_link": true
    },
    "kernelspec": {
      "name": "python3",
      "display_name": "Python 3"
    }
  },
  "cells": [
    {
      "cell_type": "markdown",
      "metadata": {
        "id": "view-in-github",
        "colab_type": "text"
      },
      "source": [
        "<a href=\"https://colab.research.google.com/github/iulihardt/DataScience/blob/master/MNIST.ipynb\" target=\"_parent\"><img src=\"https://colab.research.google.com/assets/colab-badge.svg\" alt=\"Open In Colab\"/></a>"
      ]
    },
    {
      "cell_type": "code",
      "metadata": {
        "id": "dK0vqdkZ0iqn",
        "colab_type": "code",
        "colab": {
          "base_uri": "https://localhost:8080/",
          "height": 34
        },
        "outputId": "9f89dacc-2b68-44e4-a2ff-d22ed751ba8e"
      },
      "source": [
        "import numpy as np\n",
        "%tensorflow_version 2.x\n",
        "import tensorflow as tf\n",
        "\n",
        "import tensorflow_datasets as tfds"
      ],
      "execution_count": 1,
      "outputs": [
        {
          "output_type": "stream",
          "text": [
            "TensorFlow 2.x selected.\n"
          ],
          "name": "stdout"
        }
      ]
    },
    {
      "cell_type": "code",
      "metadata": {
        "id": "vcLpyIhb04JF",
        "colab_type": "code",
        "colab": {}
      },
      "source": [
        "mnist_dataset, mnist_info = tfds.load(name=\"mnist\", as_supervised=True, with_info=True)\n",
        "mnist_train, mnist_test = mnist_dataset['train'], mnist_dataset['test']\n",
        "\n",
        "num_validation_samples = 0.1 * mnist_info.splits['train'].num_examples\n",
        "num_validation_samples = tf.cast(num_validation_samples, tf.int64)\n",
        "\n",
        "num_test_samples = mnist_info.splits['test'].num_examples\n",
        "num_test_samples = tf.cast(num_test_samples, tf.int64)\n",
        "\n",
        "def scale(image, label):\n",
        "  image = tf.cast(image, tf.float32)\n",
        "  image /= 255.\n",
        "  return image, label\n",
        "\n",
        "scaled_train_and_validation_data = mnist_train.map(scale)\n",
        "\n",
        "test_data = mnist_test.map(scale)\n",
        "\n",
        "\n",
        "BUFFER_SIZE = 10000\n",
        "\n",
        "shuffled_train_and_validation_data = scaled_train_and_validation_data.shuffle(BUFFER_SIZE)\n",
        "\n",
        "validation_data = shuffled_train_and_validation_data.take(num_validation_samples)\n",
        "train_data = shuffled_train_and_validation_data.skip(num_validation_samples)\n",
        "\n",
        "BATCH_SIZE = 2000\n",
        "\n",
        "train_data = train_data.batch(BATCH_SIZE)\n",
        "validation_data = validation_data.batch(num_validation_samples)\n",
        "test_data = test_data.batch(num_test_samples)\n",
        "\n",
        "validation_inputs, validation_targets = next(iter(validation_data))\n"
      ],
      "execution_count": 0,
      "outputs": []
    },
    {
      "cell_type": "code",
      "metadata": {
        "id": "29abT8V-1YHg",
        "colab_type": "code",
        "colab": {
          "base_uri": "https://localhost:8080/",
          "height": 34
        },
        "outputId": "ea83dccc-aae8-4cbe-e239-807300baca79"
      },
      "source": [
        "mnist_dataset['test']"
      ],
      "execution_count": 3,
      "outputs": [
        {
          "output_type": "execute_result",
          "data": {
            "text/plain": [
              "<_OptionsDataset shapes: ((28, 28, 1), ()), types: (tf.uint8, tf.int64)>"
            ]
          },
          "metadata": {
            "tags": []
          },
          "execution_count": 3
        }
      ]
    },
    {
      "cell_type": "markdown",
      "metadata": {
        "id": "TpH-QNF46GdH",
        "colab_type": "text"
      },
      "source": [
        "## Model"
      ]
    },
    {
      "cell_type": "code",
      "metadata": {
        "id": "V318AbNa19u2",
        "colab_type": "code",
        "colab": {}
      },
      "source": [
        "input_size = 784\n",
        "output_size = 10\n",
        "hidden_layer_size = 200\n",
        "\n",
        "model = tf.keras.Sequential([\n",
        "                             tf.keras.layers.Flatten(input_shape=(28,28,1)),\n",
        "                             tf.keras.layers.Dense(hidden_layer_size, activation='relu'), #quantas layers quiser\n",
        "                             tf.keras.layers.Dense(hidden_layer_size, activation='relu'),\n",
        "                             tf.keras.layers.Dense(hidden_layer_size, activation='relu'),\n",
        "                             tf.keras.layers.Dense(hidden_layer_size, activation='relu'),\n",
        "                             tf.keras.layers.Dense(hidden_layer_size, activation='relu'),\n",
        "                             tf.keras.layers.Dense(hidden_layer_size, activation='relu'),\n",
        "                             tf.keras.layers.Dense(hidden_layer_size, activation='relu'),\n",
        "                             tf.keras.layers.Dense(hidden_layer_size, activation='relu'),\n",
        "                             tf.keras.layers.Dense(output_size, activation='softmax')\n",
        "                             ])\n",
        "\n"
      ],
      "execution_count": 0,
      "outputs": []
    },
    {
      "cell_type": "code",
      "metadata": {
        "id": "Iog5FBFS7RaX",
        "colab_type": "code",
        "colab": {}
      },
      "source": [
        "\n",
        "model.compile(optimizer='adam', loss='sparse_categorical_crossentropy', metrics=['accuracy'])"
      ],
      "execution_count": 0,
      "outputs": []
    },
    {
      "cell_type": "code",
      "metadata": {
        "id": "eopsxQcp71Yj",
        "colab_type": "code",
        "colab": {
          "base_uri": "https://localhost:8080/",
          "height": 884
        },
        "outputId": "2c0d272c-76f3-4ed5-c142-c187603ede2f"
      },
      "source": [
        "NUM_EPOCHS = 25\n",
        "NUM_STEPS = num_validation_samples#//BATCH_SIZE\n",
        "\n",
        "\n",
        "\n",
        "model.fit(train_data,epochs = NUM_EPOCHS, validation_data=(validation_inputs, validation_targets), verbose=2, validation_steps=NUM_STEPS)"
      ],
      "execution_count": 6,
      "outputs": [
        {
          "output_type": "stream",
          "text": [
            "Epoch 1/25\n",
            "27/27 - 31s - loss: 1.1435 - accuracy: 0.6458 - val_loss: 0.0000e+00 - val_accuracy: 0.0000e+00\n",
            "Epoch 2/25\n",
            "27/27 - 26s - loss: 0.2982 - accuracy: 0.9129 - val_loss: 0.2280 - val_accuracy: 0.9330\n",
            "Epoch 3/25\n",
            "27/27 - 28s - loss: 0.1790 - accuracy: 0.9471 - val_loss: 0.1617 - val_accuracy: 0.9535\n",
            "Epoch 4/25\n",
            "27/27 - 28s - loss: 0.1326 - accuracy: 0.9605 - val_loss: 0.1384 - val_accuracy: 0.9578\n",
            "Epoch 5/25\n",
            "27/27 - 28s - loss: 0.1097 - accuracy: 0.9670 - val_loss: 0.1129 - val_accuracy: 0.9665\n",
            "Epoch 6/25\n",
            "27/27 - 27s - loss: 0.0866 - accuracy: 0.9742 - val_loss: 0.0947 - val_accuracy: 0.9707\n",
            "Epoch 7/25\n",
            "27/27 - 26s - loss: 0.0780 - accuracy: 0.9762 - val_loss: 0.0787 - val_accuracy: 0.9755\n",
            "Epoch 8/25\n",
            "27/27 - 26s - loss: 0.0636 - accuracy: 0.9813 - val_loss: 0.0631 - val_accuracy: 0.9817\n",
            "Epoch 9/25\n",
            "27/27 - 27s - loss: 0.0487 - accuracy: 0.9857 - val_loss: 0.0652 - val_accuracy: 0.9815\n",
            "Epoch 10/25\n",
            "27/27 - 27s - loss: 0.0414 - accuracy: 0.9874 - val_loss: 0.0499 - val_accuracy: 0.9865\n",
            "Epoch 11/25\n",
            "27/27 - 27s - loss: 0.0402 - accuracy: 0.9873 - val_loss: 0.0451 - val_accuracy: 0.9853\n",
            "Epoch 12/25\n",
            "27/27 - 27s - loss: 0.0323 - accuracy: 0.9900 - val_loss: 0.0363 - val_accuracy: 0.9882\n",
            "Epoch 13/25\n",
            "27/27 - 26s - loss: 0.0251 - accuracy: 0.9926 - val_loss: 0.0320 - val_accuracy: 0.9905\n",
            "Epoch 14/25\n",
            "27/27 - 28s - loss: 0.0205 - accuracy: 0.9942 - val_loss: 0.0334 - val_accuracy: 0.9902\n",
            "Epoch 15/25\n",
            "27/27 - 27s - loss: 0.0171 - accuracy: 0.9952 - val_loss: 0.0282 - val_accuracy: 0.9907\n",
            "Epoch 16/25\n",
            "27/27 - 28s - loss: 0.0175 - accuracy: 0.9949 - val_loss: 0.0193 - val_accuracy: 0.9942\n",
            "Epoch 17/25\n",
            "27/27 - 29s - loss: 0.0121 - accuracy: 0.9965 - val_loss: 0.0172 - val_accuracy: 0.9948\n",
            "Epoch 18/25\n",
            "27/27 - 29s - loss: 0.0180 - accuracy: 0.9943 - val_loss: 0.0348 - val_accuracy: 0.9883\n",
            "Epoch 19/25\n",
            "27/27 - 28s - loss: 0.0201 - accuracy: 0.9936 - val_loss: 0.0206 - val_accuracy: 0.9947\n",
            "Epoch 20/25\n",
            "27/27 - 32s - loss: 0.0103 - accuracy: 0.9969 - val_loss: 0.0118 - val_accuracy: 0.9958\n",
            "Epoch 21/25\n",
            "27/27 - 28s - loss: 0.0070 - accuracy: 0.9983 - val_loss: 0.0087 - val_accuracy: 0.9977\n",
            "Epoch 22/25\n",
            "27/27 - 27s - loss: 0.0068 - accuracy: 0.9981 - val_loss: 0.0093 - val_accuracy: 0.9963\n",
            "Epoch 23/25\n",
            "27/27 - 26s - loss: 0.0143 - accuracy: 0.9958 - val_loss: 0.0322 - val_accuracy: 0.9887\n",
            "Epoch 24/25\n",
            "27/27 - 28s - loss: 0.0212 - accuracy: 0.9932 - val_loss: 0.0149 - val_accuracy: 0.9952\n",
            "Epoch 25/25\n",
            "27/27 - 28s - loss: 0.0100 - accuracy: 0.9967 - val_loss: 0.0082 - val_accuracy: 0.9977\n"
          ],
          "name": "stdout"
        },
        {
          "output_type": "execute_result",
          "data": {
            "text/plain": [
              "<tensorflow.python.keras.callbacks.History at 0x7fb3af947400>"
            ]
          },
          "metadata": {
            "tags": []
          },
          "execution_count": 6
        }
      ]
    },
    {
      "cell_type": "code",
      "metadata": {
        "id": "HSgLO-7a8dfD",
        "colab_type": "code",
        "colab": {
          "base_uri": "https://localhost:8080/",
          "height": 34
        },
        "outputId": "1217f9a0-8272-4793-9fe0-40bafc494c91"
      },
      "source": [
        "test_loss, test_accuracy = model.evaluate(test_data)"
      ],
      "execution_count": 7,
      "outputs": [
        {
          "output_type": "stream",
          "text": [
            "1/1 [==============================] - 2s 2s/step - loss: 0.1024 - accuracy: 0.9762\n"
          ],
          "name": "stdout"
        }
      ]
    },
    {
      "cell_type": "code",
      "metadata": {
        "id": "KWTMmfQcG9vC",
        "colab_type": "code",
        "colab": {}
      },
      "source": [
        ""
      ],
      "execution_count": 0,
      "outputs": []
    }
  ]
}